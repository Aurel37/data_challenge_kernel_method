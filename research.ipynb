{
  "cells": [
    {
      "cell_type": "code",
      "execution_count": 1,
      "metadata": {
        "colab": {
          "base_uri": "https://localhost:8080/"
        },
        "id": "0dr1NlGJJ3Ra",
        "outputId": "75aa0ba3-cf6c-4519-855e-f6ad343d2c4b"
      },
      "outputs": [
        {
          "name": "stdout",
          "output_type": "stream",
          "text": [
            "Mounted at drive\n"
          ]
        }
      ],
      "source": [
        "# colab settings\n",
        "from google.colab import drive\n",
        "import os\n",
        "\n",
        "# This will prompt for authorization.\n",
        "drive.mount('drive', force_remount=True)"
      ]
    },
    {
      "cell_type": "code",
      "execution_count": 2,
      "metadata": {
        "id": "zcJIXdshJ62S"
      },
      "outputs": [],
      "source": [
        "\n",
        "try:\n",
        "    !rm -fr data_challenge_kernel_method\n",
        "    !git clone --quiet https://github.com/Aurel37/data_challenge_kernel_method.git\n",
        "\n",
        "except ImportError:\n",
        "    pass\n",
        "    "
      ]
    },
    {
      "cell_type": "code",
      "execution_count": null,
      "metadata": {},
      "outputs": [],
      "source": []
    },
    {
      "cell_type": "code",
      "execution_count": 6,
      "metadata": {
        "id": "1EUu1Q50K-fz"
      },
      "outputs": [],
      "source": [
        "# Connect colab with Drive\n",
        "persistent_storage = 'trainings/'\n",
        "try:\n",
        "    # Load the Drive helper and mount\n",
        "    from google.colab import drive\n",
        "    import os\n",
        "\n",
        "    # This will prompt for authorization.\n",
        "    drive.mount( 'Drive')\n",
        "    persistent_storage = 'Drive/My Drive/MVA/Kernel'\n",
        "    os.makedirs(persistent_storage, exist_ok=True)\n",
        "except:\n",
        "    pass"
      ]
    },
    {
      "cell_type": "code",
      "execution_count": 7,
      "metadata": {
        "colab": {
          "base_uri": "https://localhost:8080/",
          "height": 240
        },
        "id": "vgY0lP4YKPy7",
        "outputId": "89ab7667-806b-40f1-da2c-5abc72b286dd"
      },
      "outputs": [
        {
          "ename": "NameError",
          "evalue": "ignored",
          "output_type": "error",
          "traceback": [
            "\u001b[0;31m---------------------------------------------------------------------------\u001b[0m",
            "\u001b[0;31mNameError\u001b[0m                                 Traceback (most recent call last)",
            "\u001b[0;32m<ipython-input-7-fb2b04ba8b2f>\u001b[0m in \u001b[0;36m<module>\u001b[0;34m()\u001b[0m\n\u001b[1;32m     14\u001b[0m \u001b[0;31m# for instance, Yte = classifier.fit(Xte)\u001b[0m\u001b[0;34m\u001b[0m\u001b[0;34m\u001b[0m\u001b[0;34m\u001b[0m\u001b[0m\n\u001b[1;32m     15\u001b[0m \u001b[0;34m\u001b[0m\u001b[0m\n\u001b[0;32m---> 16\u001b[0;31m \u001b[0mYte\u001b[0m \u001b[0;34m=\u001b[0m \u001b[0;34m{\u001b[0m\u001b[0;34m'Prediction'\u001b[0m \u001b[0;34m:\u001b[0m \u001b[0mYte\u001b[0m\u001b[0;34m}\u001b[0m\u001b[0;34m\u001b[0m\u001b[0;34m\u001b[0m\u001b[0m\n\u001b[0m\u001b[1;32m     17\u001b[0m \u001b[0mdataframe\u001b[0m \u001b[0;34m=\u001b[0m \u001b[0mpd\u001b[0m\u001b[0;34m.\u001b[0m\u001b[0mDataFrame\u001b[0m\u001b[0;34m(\u001b[0m\u001b[0mYte\u001b[0m\u001b[0;34m)\u001b[0m\u001b[0;34m\u001b[0m\u001b[0;34m\u001b[0m\u001b[0m\n\u001b[1;32m     18\u001b[0m \u001b[0mdataframe\u001b[0m\u001b[0;34m.\u001b[0m\u001b[0mindex\u001b[0m \u001b[0;34m+=\u001b[0m \u001b[0;36m1\u001b[0m\u001b[0;34m\u001b[0m\u001b[0;34m\u001b[0m\u001b[0m\n",
            "\u001b[0;31mNameError\u001b[0m: name 'Yte' is not defined"
          ]
        }
      ],
      "source": [
        "import numpy as np\n",
        "import pandas as pd\n",
        "\n",
        "Xtr = np.array(pd.read_csv(persistent_storage + 'Xtr.csv',header=None,sep=',',usecols=range(3072)))\n",
        "Xte = np.array(pd.read_csv(persistent_storage + 'Xte.csv',header=None,sep=',',usecols=range(3072)))\n",
        "Ytr = np.array(pd.read_csv(persistent_storage + 'Ytr.csv',sep=',',usecols=[1])).squeeze()\n",
        "\n",
        "# define your learning algorithm here\n",
        "# for instance, define an object called ``classifier''  \n",
        "# classifier.train(Ytr,Xtr)\n",
        "\n",
        "\n",
        "# predict on the test data\n",
        "# for instance, Yte = classifier.fit(Xte)\n",
        "\n",
        "# next\n",
        "\n",
        "Yte = {'Prediction' : Yte}\n",
        "dataframe = pd.DataFrame(Yte)\n",
        "dataframe.index += 1\n",
        "dataframe.to_csv('Yte_pred.csv',index_label='Id')"
      ]
    }
  ],
  "metadata": {
    "colab": {
      "name": "Untitled11.ipynb",
      "provenance": []
    },
    "kernelspec": {
      "display_name": "Python 3",
      "name": "python3"
    },
    "language_info": {
      "name": "python"
    }
  },
  "nbformat": 4,
  "nbformat_minor": 0
}
