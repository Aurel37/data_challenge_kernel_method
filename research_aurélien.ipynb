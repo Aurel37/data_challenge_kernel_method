{
  "nbformat": 4,
  "nbformat_minor": 0,
  "metadata": {
    "colab": {
      "name": "research.ipynb",
      "provenance": [],
      "collapsed_sections": []
    },
    "kernelspec": {
      "name": "python3",
      "display_name": "Python 3"
    },
    "language_info": {
      "name": "python"
    }
  },
  "cells": [
    {
      "cell_type": "code",
      "execution_count": 1,
      "metadata": {
        "colab": {
          "base_uri": "https://localhost:8080/"
        },
        "id": "0dr1NlGJJ3Ra",
        "outputId": "b2797505-9354-4012-a85d-214e6ec93249"
      },
      "outputs": [
        {
          "output_type": "stream",
          "name": "stdout",
          "text": [
            "Mounted at drive\n"
          ]
        }
      ],
      "source": [
        "# colab settings\n",
        "from google.colab import drive\n",
        "import os\n",
        "\n",
        "# This will prompt for authorization.\n",
        "drive.mount('drive', force_remount=True)"
      ]
    },
    {
      "cell_type": "code",
      "source": [
        "!git clone --quiet https://github.com/Aurel37/data_challenge_kernel_method.git"
      ],
      "metadata": {
        "id": "zcJIXdshJ62S"
      },
      "execution_count": null,
      "outputs": []
    },
    {
      "cell_type": "code",
      "source": [
        "persistent_storage = 'drive/MyDrive/MVA/kernel/'"
      ],
      "metadata": {
        "id": "1EUu1Q50K-fz"
      },
      "execution_count": 2,
      "outputs": []
    },
    {
      "cell_type": "code",
      "source": [
        "import matplotlib.pyplot as plt"
      ],
      "metadata": {
        "id": "eneFA7nlFwOi"
      },
      "execution_count": 3,
      "outputs": []
    },
    {
      "cell_type": "code",
      "source": [
        "import numpy as np\n",
        "import pandas as pd\n",
        "\n",
        "Xtr = np.array(pd.read_csv(persistent_storage + 'Xtr.csv',header=None,sep=',',usecols=range(3072)))\n",
        "Xte = np.array(pd.read_csv(persistent_storage + 'Xte.csv',header=None,sep=',',usecols=range(3072)))\n",
        "Ytr = np.array(pd.read_csv(persistent_storage + 'Ytr.csv',sep=',',usecols=[1])).squeeze()\n",
        "\n",
        "# define your learning algorithm here\n",
        "# for instance, define an object called ``classifier''  \n",
        "# classifier.train(Ytr,Xtr)\n",
        "\n",
        "\n",
        "# predict on the test data\n",
        "# for instance, Yte = classifier.fit(Xte)\n",
        "\n",
        "# next\n",
        "\n",
        "print(Xte[0, :])"
      ],
      "metadata": {
        "colab": {
          "base_uri": "https://localhost:8080/"
        },
        "id": "vgY0lP4YKPy7",
        "outputId": "2f8453d5-c800-4efd-b10d-fa4c465a9beb"
      },
      "execution_count": 4,
      "outputs": [
        {
          "output_type": "stream",
          "name": "stdout",
          "text": [
            "[ 0.02131679 -0.02918767 -0.0217463  ... -0.0072958  -0.02088945\n",
            " -0.02422281]\n"
          ]
        }
      ]
    },
    {
      "cell_type": "code",
      "source": [
        "def display_pict(image):\n",
        "    formatted = np.zeros((32, 32, 3))\n",
        "    formatted[:,:,0] = np.reshape(image[:1024], (32,32))\n",
        "    formatted[:,:,1] = np.reshape(image[1024:2048], (32,32))\n",
        "    formatted[:,:,2] = np.reshape(image[2048:3072], (32,32))\n",
        "    plt.imshow(formatted)\n",
        "display_pict(Xtr[0, :])"
      ],
      "metadata": {
        "colab": {
          "base_uri": "https://localhost:8080/",
          "height": 284
        },
        "id": "d4bhx_fWFLPS",
        "outputId": "c8bc95f3-032b-4431-d69b-152dacc0927a"
      },
      "execution_count": null,
      "outputs": [
        {
          "output_type": "stream",
          "name": "stderr",
          "text": [
            "Clipping input data to the valid range for imshow with RGB data ([0..1] for floats or [0..255] for integers).\n"
          ]
        },
        {
          "output_type": "display_data",
          "data": {
            "text/plain": [
              "<Figure size 432x288 with 1 Axes>"
            ],
            "image/png": "[encoded data removed]"
          },
          "metadata": {
            "needs_background": "light"
          }
        }
      ]
    },
    {
      "cell_type": "code",
      "source": [
        "# feature finder\n",
        "# PCA ? GRadient truc ? "
      ],
      "metadata": {
        "id": "7opw9bw5JyUb"
      },
      "execution_count": null,
      "outputs": []
    },
    {
      "cell_type": "code",
      "source": [
        "test = np.array([0, 3, 5, 4])\n"
      ],
      "metadata": {
        "colab": {
          "base_uri": "https://localhost:8080/",
          "height": 383
        },
        "id": "AWlGw8CpEVyb",
        "outputId": "573da918-010c-4da5-c1ca-a694f4cad571"
      },
      "execution_count": null,
      "outputs": [
        {
          "output_type": "stream",
          "name": "stdout",
          "text": [
            "(1, 4)\n"
          ]
        },
        {
          "output_type": "error",
          "ename": "ValueError",
          "evalue": "ignored",
          "traceback": [
            "\u001b[0;31m---------------------------------------------------------------------------\u001b[0m",
            "\u001b[0;31mValueError\u001b[0m                                Traceback (most recent call last)",
            "\u001b[0;32m<ipython-input-31-49b660e8e30c>\u001b[0m in \u001b[0;36m<module>\u001b[0;34m()\u001b[0m\n\u001b[1;32m      2\u001b[0m \u001b[0mtest_0\u001b[0m \u001b[0;34m=\u001b[0m \u001b[0mnp\u001b[0m\u001b[0;34m.\u001b[0m\u001b[0marray\u001b[0m\u001b[0;34m(\u001b[0m\u001b[0;34m[\u001b[0m\u001b[0;34m[\u001b[0m\u001b[0;36m0\u001b[0m\u001b[0;34m,\u001b[0m \u001b[0;36m1\u001b[0m\u001b[0;34m]\u001b[0m\u001b[0;34m,\u001b[0m \u001b[0;34m[\u001b[0m\u001b[0;36m4\u001b[0m\u001b[0;34m,\u001b[0m \u001b[0;36m1\u001b[0m\u001b[0;34m]\u001b[0m\u001b[0;34m,\u001b[0m \u001b[0;34m[\u001b[0m\u001b[0;36m2\u001b[0m\u001b[0;34m,\u001b[0m \u001b[0;36m1\u001b[0m\u001b[0;34m]\u001b[0m\u001b[0;34m,\u001b[0m \u001b[0;34m[\u001b[0m\u001b[0;36m3\u001b[0m\u001b[0;34m,\u001b[0m \u001b[0;36m1\u001b[0m\u001b[0;34m]\u001b[0m\u001b[0;34m]\u001b[0m\u001b[0;34m)\u001b[0m\u001b[0;34m\u001b[0m\u001b[0;34m\u001b[0m\u001b[0m\n\u001b[1;32m      3\u001b[0m \u001b[0mprint\u001b[0m\u001b[0;34m(\u001b[0m\u001b[0mtest\u001b[0m\u001b[0;34m[\u001b[0m\u001b[0;32mNone\u001b[0m\u001b[0;34m,\u001b[0m\u001b[0;34m:\u001b[0m\u001b[0;34m]\u001b[0m\u001b[0;34m.\u001b[0m\u001b[0mshape\u001b[0m\u001b[0;34m)\u001b[0m\u001b[0;34m\u001b[0m\u001b[0;34m\u001b[0m\u001b[0m\n\u001b[0;32m----> 4\u001b[0;31m \u001b[0mnp\u001b[0m\u001b[0;34m.\u001b[0m\u001b[0mstack\u001b[0m\u001b[0;34m(\u001b[0m\u001b[0;34m(\u001b[0m\u001b[0mtest\u001b[0m\u001b[0;34m[\u001b[0m\u001b[0;32mNone\u001b[0m\u001b[0;34m,\u001b[0m\u001b[0;34m:\u001b[0m\u001b[0;34m]\u001b[0m\u001b[0;34m,\u001b[0m \u001b[0mtest_0\u001b[0m\u001b[0;34m)\u001b[0m\u001b[0;34m)\u001b[0m\u001b[0;34m\u001b[0m\u001b[0;34m\u001b[0m\u001b[0m\n\u001b[0m",
            "\u001b[0;32m<__array_function__ internals>\u001b[0m in \u001b[0;36mstack\u001b[0;34m(*args, **kwargs)\u001b[0m\n",
            "\u001b[0;32m/usr/local/lib/python3.7/dist-packages/numpy/core/shape_base.py\u001b[0m in \u001b[0;36mstack\u001b[0;34m(arrays, axis, out)\u001b[0m\n\u001b[1;32m    424\u001b[0m     \u001b[0mshapes\u001b[0m \u001b[0;34m=\u001b[0m \u001b[0;34m{\u001b[0m\u001b[0marr\u001b[0m\u001b[0;34m.\u001b[0m\u001b[0mshape\u001b[0m \u001b[0;32mfor\u001b[0m \u001b[0marr\u001b[0m \u001b[0;32min\u001b[0m \u001b[0marrays\u001b[0m\u001b[0;34m}\u001b[0m\u001b[0;34m\u001b[0m\u001b[0;34m\u001b[0m\u001b[0m\n\u001b[1;32m    425\u001b[0m     \u001b[0;32mif\u001b[0m \u001b[0mlen\u001b[0m\u001b[0;34m(\u001b[0m\u001b[0mshapes\u001b[0m\u001b[0;34m)\u001b[0m \u001b[0;34m!=\u001b[0m \u001b[0;36m1\u001b[0m\u001b[0;34m:\u001b[0m\u001b[0;34m\u001b[0m\u001b[0;34m\u001b[0m\u001b[0m\n\u001b[0;32m--> 426\u001b[0;31m         \u001b[0;32mraise\u001b[0m \u001b[0mValueError\u001b[0m\u001b[0;34m(\u001b[0m\u001b[0;34m'all input arrays must have the same shape'\u001b[0m\u001b[0;34m)\u001b[0m\u001b[0;34m\u001b[0m\u001b[0;34m\u001b[0m\u001b[0m\n\u001b[0m\u001b[1;32m    427\u001b[0m \u001b[0;34m\u001b[0m\u001b[0m\n\u001b[1;32m    428\u001b[0m     \u001b[0mresult_ndim\u001b[0m \u001b[0;34m=\u001b[0m \u001b[0marrays\u001b[0m\u001b[0;34m[\u001b[0m\u001b[0;36m0\u001b[0m\u001b[0;34m]\u001b[0m\u001b[0;34m.\u001b[0m\u001b[0mndim\u001b[0m \u001b[0;34m+\u001b[0m \u001b[0;36m1\u001b[0m\u001b[0;34m\u001b[0m\u001b[0;34m\u001b[0m\u001b[0m\n",
            "\u001b[0;31mValueError\u001b[0m: all input arrays must have the same shape"
          ]
        }
      ]
    },
    {
      "cell_type": "code",
      "source": [
        "class DataLoader:\n",
        "\n",
        "    def __init__(self, dataset, target, batch_size=1, shuffle=False):\n",
        "        if not(target.shape[0] == dataset.shape[0]):\n",
        "            raise ValueError(\"target and dataset must have same x-axis size\")\n",
        "        N = dataset.shape[0]\n",
        "        self.dataset_raw = dataset.copy()\n",
        "        self.target_raw = target.copy()\n",
        "        if shuffle:\n",
        "            arange = np.arange(N)\n",
        "            self.dataset = np.split(dataset[arange, :], batch_size)\n",
        "            self.target = np.split(target[arange], batch_size)\n",
        "        else:\n",
        "            self.dataset = np.split(dataset, batch_size)\n",
        "            self.target = np.split(target, batch_size)\n",
        "        self.n_batch = len(self.target)\n",
        "        self.it = None\n",
        "        self.batch_size = batch_size\n",
        "        self.shuffle = shuffle\n",
        "      \n",
        "    def __iter__(self):\n",
        "        self.it = -1\n",
        "        return self\n",
        "\n",
        "    def __next__(self):\n",
        "        if self.it + 1 < self.n_batch:\n",
        "            self.it += 1\n",
        "            return self.dataset[self.it], self.target[self.it]\n",
        "        else:\n",
        "            raise StopIteration\n",
        "    \n",
        "    def copy(self):\n",
        "        dataset = self.dataset_raw.copy()\n",
        "        target = self.target_raw.copy()\n",
        "        return DataLoader(dataset, target, self.batch_size, self.shuffle)"
      ],
      "metadata": {
        "id": "ViqPuUZ6kvc1"
      },
      "execution_count": 67,
      "outputs": []
    },
    {
      "cell_type": "code",
      "source": [
        "from scipy.linalg import eigh\n",
        "\n",
        "class KernelPCA:\n",
        "\n",
        "    def __init__(self, dataloader, kernel, n_dim):\n",
        "        self.dataloader = dataloader.copy()\n",
        "        self.n_batch = dataloader.n_batch\n",
        "\n",
        "        # kernel should be a function here\n",
        "        self.kernel = kernel\n",
        "        self.n_dim = n_dim\n",
        "    \n",
        "    def center_kernel(self, X):\n",
        "        N, _ = X.shape\n",
        "        kernel_mat = self.kernel(X, X)\n",
        "        ones_N = 1/N*np.ones((N, N))\n",
        "        return kernel_mat - ones_N@kernel_mat - kernel_mat@ones_N + ones_N@kernel_mat@ones_N\n",
        "    \n",
        "    def PCA(self, X):\n",
        "        K = self.center_kernel(X)\n",
        "        eigenvals, eigenvects = eigh(K)\n",
        "\n",
        "        # remove the eigenvectors associated to 0\n",
        "        # it's a sanity check, should never occur\n",
        "        non_zero = eigenvals != 0\n",
        "        eigenvals = eigenvals[non_zero]\n",
        "        eigenvects = eigenvects[non_zero, :]\n",
        "\n",
        "        # sort eigenvalues in descending order to retrieve \n",
        "        # the first n_dim eigenvect\n",
        "        order_eigh = eigenvals.argsort()[::-1]\n",
        "        order_eigh = order_eigh[:self.n_dim]\n",
        "\n",
        "        alpha = eigenvects[order_eigh, :].T/np.sqrt(eigenvals[order_eigh])\n",
        "        return np.dot(K, alpha)\n",
        "\n",
        "    def project(self):\n",
        "        for i in range(self.n_batch):\n",
        "            self.dataloader.dataset[i] = self.PCA(self.dataloader.dataset[i])\n",
        "        return self.dataloader"
      ],
      "metadata": {
        "id": "EiEUgfmP4sTJ"
      },
      "execution_count": null,
      "outputs": []
    },
    {
      "cell_type": "code",
      "source": [
        "dataloader = DataLoader(Xtr, Ytr, 500)"
      ],
      "metadata": {
        "id": "TTdc2rQ07Ojd"
      },
      "execution_count": null,
      "outputs": []
    },
    {
      "cell_type": "code",
      "source": [
        "class RBF:\n",
        "    def __init__(self, sigma=1.):\n",
        "        self.sigma = sigma  ## the variance of the kernel\n",
        "        #self.k = None\n",
        "        \n",
        "    def kernel(self,X,Y):\n",
        "        ## Input vectors X and Y of shape Nxd and Mxd\n",
        "        \n",
        "        # difference between all vectors X and Y\n",
        "        xmy = X[:, None, :] - Y[None, :, :]\n",
        "        #self.k = xmy\n",
        "        return np.exp(-1/2*np.square(np.linalg.norm(xmy, axis=2)/self.sigma))"
      ],
      "metadata": {
        "id": "O0pLdVBbhWDo"
      },
      "execution_count": 5,
      "outputs": []
    },
    {
      "cell_type": "code",
      "source": [
        "rbf = RBF(1)\n",
        "rbf.kernel(Xtr, Xtr)"
      ],
      "metadata": {
        "id": "LrG25hIx7grL"
      },
      "execution_count": null,
      "outputs": []
    },
    {
      "cell_type": "code",
      "source": [
        "from scipy import optimize\n",
        "\n",
        "class KernelSVC:\n",
        "    \n",
        "    def __init__(self, C, kernel, epsilon = 1e-3):\n",
        "        self.type = 'non-linear'\n",
        "        self.C = C                               \n",
        "        self.kernel = kernel        \n",
        "        self.alpha = None\n",
        "        self.support = None\n",
        "        self.epsilon = epsilon\n",
        "        self.norm_f = None\n",
        "    \n",
        "    def fit(self, X, y):\n",
        "        #### You might define here any variable needed for the rest of the code\n",
        "        N = len(y)\n",
        "        diag_y = np.zeros((N,N))\n",
        "        for i in range(N):\n",
        "            diag_y[i,i] = y[i]\n",
        "        one = np.ones(N)\n",
        "        K = self.kernel(X, X)\n",
        "        # Lagrange dual problem\n",
        "        \n",
        "        def loss(alpha):\n",
        "            return  -2*alpha.T@y+alpha.T@K@alpha\n",
        "\n",
        "        # Partial derivate of Ld on alpha\n",
        "        def grad_loss(alpha):\n",
        "            return -2*y + 2*K@alpha\n",
        "\n",
        "        # Constraints on alpha of the shape :\n",
        "        # -  d - C*alpha  = 0\n",
        "        # -  b - A*alpha >= 0\n",
        "\n",
        "        fun_eq = lambda alpha: alpha.T@one    \n",
        "        jac_eq = lambda alpha: one\n",
        "        fun_ineq_0 = lambda alpha: -alpha*y + self.C*one\n",
        "        jac_ineq_0 = lambda alpha:  -diag_y\n",
        "        fun_ineq_1 = lambda alpha: alpha*y\n",
        "        jac_ineq_1 = lambda alpha:  diag_y\n",
        "        \n",
        "        constraints = ({'type': 'eq',  'fun': fun_eq, 'jac': jac_eq},\n",
        "                       {'type': 'ineq', \n",
        "                        'fun': fun_ineq_0 , \n",
        "                        'jac': jac_ineq_0}, \n",
        "                       {'type': 'ineq', \n",
        "                        'fun': fun_ineq_1, \n",
        "                        'jac': jac_ineq_1}, \n",
        "                      )\n",
        "\n",
        "        optRes = optimize.minimize(fun=lambda alpha: loss(alpha),\n",
        "                                   x0=np.ones(N), \n",
        "                                   method='SLSQP', \n",
        "                                   jac=lambda alpha: grad_loss(alpha), \n",
        "                                   constraints=constraints)\n",
        "        self.alpha = optRes.x\n",
        "        \n",
        "        # support indices\n",
        "        supportIndices = np.where(np.abs(self.alpha) > self.epsilon)  \n",
        "        self.alpha = self.alpha[supportIndices]\n",
        "        y_support = y[supportIndices]\n",
        "        self.support = X[supportIndices] #'''------------------- A matrix with each row corresponding to a support vector ------------------'''\n",
        "        \n",
        "        K = self.kernel(self.support, self.support)\n",
        "        \n",
        "        # compute b\n",
        "        \n",
        "        # index of alpha_i to compute b using \n",
        "        # the complementary slackness conditions\n",
        "        kkt_index = np.argmax((self.alpha > 0)*(self.alpha < y_support*self.C))\n",
        "        self.b = y_support[kkt_index] - self.separating_function(np.array([self.support[kkt_index]]))\n",
        "        \n",
        "        # compute the norm of f\n",
        "        self.norm_f = np.sqrt(self.alpha.T@K@self.alpha)\n",
        "        \n",
        "    ### Implementation of the separting function $f$ \n",
        "    def separating_function(self,x):\n",
        "        # Input : matrix x of shape N data points times d dimension\n",
        "        # Output: vector of size N\n",
        "        return  self.kernel(x, self.support)@self.alpha\n",
        "    \n",
        "    \n",
        "    def predict(self, X):\n",
        "        \"\"\" Predict y values in {-1, 1} \"\"\"\n",
        "        d = self.separating_function(X)\n",
        "        return 2 * (d+self.b > 0) - 1"
      ],
      "metadata": {
        "id": "o8QMrPOZ2RfL"
      },
      "execution_count": 69,
      "outputs": []
    },
    {
      "cell_type": "code",
      "source": [
        "def train(batch_size, n_dim, kernel, param_kernel, n_class=10):\n",
        "    kernel_func = kernel(param_kernel).kernel\n",
        "    dataloader = DataLoader(Xtr, Ytr, batch_size)\n",
        "    dataloader_pca = KernelPCA(dataloader, kernel_func, n_dim)\n",
        "    SVMs = []\n",
        "    for in range(n_class):\n",
        "        "
      ],
      "metadata": {
        "id": "44AjCJIm2vFt"
      },
      "execution_count": null,
      "outputs": []
    }
  ]
}